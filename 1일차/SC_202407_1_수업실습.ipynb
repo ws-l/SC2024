{
  "nbformat": 4,
  "nbformat_minor": 0,
  "metadata": {
    "colab": {
      "provenance": []
    },
    "kernelspec": {
      "name": "python3",
      "display_name": "Python 3"
    },
    "language_info": {
      "name": "python"
    }
  },
  "cells": [
    {
      "cell_type": "markdown",
      "source": [
        "## 1. 코랩 돌아보기"
      ],
      "metadata": {
        "id": "KKlKoy_CN-YP"
      }
    },
    {
      "cell_type": "code",
      "source": [
        "import os\n",
        "os.getcwd()"
      ],
      "metadata": {
        "id": "KCLZ5JcnOCsz"
      },
      "execution_count": null,
      "outputs": []
    },
    {
      "cell_type": "markdown",
      "source": [
        "## 2. 기본문법"
      ],
      "metadata": {
        "id": "Q0xhAH3SNynp"
      }
    },
    {
      "cell_type": "code",
      "source": [
        "나이 = 27\n",
        "이름 = '홍길동'\n",
        "체크 = True\n",
        "print(나이, 이름, 체크)"
      ],
      "metadata": {
        "colab": {
          "base_uri": "https://localhost:8080/"
        },
        "id": "0PBaVtMNdNHM",
        "outputId": "4228a240-60d4-4917-8f14-dec90453cc1e"
      },
      "execution_count": 3,
      "outputs": [
        {
          "output_type": "stream",
          "name": "stdout",
          "text": [
            "27 홍길동 True\n"
          ]
        }
      ]
    },
    {
      "cell_type": "code",
      "source": [
        "list1 = [ 27, 28, 29    ]   # 리스트\n",
        "list2 = [ 27, \"홍길동\", list1]\n",
        "print(list2)\n",
        "list1 * 5"
      ],
      "metadata": {
        "id": "M439Somqek0y"
      },
      "execution_count": null,
      "outputs": []
    },
    {
      "cell_type": "code",
      "source": [
        "import numpy as np\n",
        "arr1 = np.array( list1     )\n",
        "arr1 * 5"
      ],
      "metadata": {
        "id": "UzOXDnVehFv-"
      },
      "execution_count": null,
      "outputs": []
    },
    {
      "cell_type": "code",
      "source": [
        "import pandas as pd\n",
        "df1 = pd.DataFrame( list1 )"
      ],
      "metadata": {
        "id": "yiJVK5sCibmX"
      },
      "execution_count": null,
      "outputs": []
    },
    {
      "cell_type": "code",
      "source": [
        "df2 = pd.read_csv(\"creditset2.csv\")\n",
        "df2.columns\n",
        "df2.index\n",
        "df2.values\n",
        "df2.income  # df2[\"income\"]\n",
        "df2.to_csv(\"new_creditset2.csv\")"
      ],
      "metadata": {
        "id": "UwcCtv2zj7kP"
      },
      "execution_count": 22,
      "outputs": []
    },
    {
      "cell_type": "code",
      "source": [
        "df2.head()\n",
        "df2.income.idxmax()\n",
        "df2.income.idxmin()\n",
        "df2.income.nlargest(5)\n",
        "df2.income.nsmallest(5).index\n",
        "df2.values[ : ,  1  ]  #2D array,\n",
        "# 1~1000행까지 3열 출력   [0:1000, 2]\n",
        "# 2열과 3열을 출력      [:, 1:3]\n",
        "df2.iloc[  :, 1:3]\n",
        "df2[ [ \"age\" , \"loan\" ] ]\n",
        "df2.default10yr.value_counts()\n",
        "#컬럼 추가, age가 45보다 큰지, 작은지\n",
        "df2[\"new_col\"] = df2.age > 45  #이름 중복 시 overwrite\n",
        "#컬럼 삭제\n",
        "df2.drop(\"new_col\", axis=1, inplace=True) #df2에 삭제를 반영"
      ],
      "metadata": {
        "colab": {
          "base_uri": "https://localhost:8080/"
        },
        "id": "k0DlFvGnDtzA",
        "outputId": "9df2dd16-fa0f-4331-b407-627cd99fe1af"
      },
      "execution_count": 52,
      "outputs": [
        {
          "output_type": "execute_result",
          "data": {
            "text/plain": [
              "0       64.017015\n",
              "1       53.117153\n",
              "2       68.108049\n",
              "3       50.751972\n",
              "4       23.584336\n",
              "          ...    \n",
              "1995    53.518179\n",
              "1996    28.162104\n",
              "1997    33.017167\n",
              "1998    68.971796\n",
              "1999    61.152617\n",
              "Name: age, Length: 2000, dtype: float64"
            ]
          },
          "metadata": {},
          "execution_count": 52
        }
      ]
    },
    {
      "cell_type": "code",
      "source": [
        "#AMZN.csv를 데이터프레임으로 읽어보시고, describe()를 사용해보세요.\n",
        "df3 = pd.read_csv(\"AMZN.csv\")\n",
        "df4 = df3.describe()\n",
        "df4.to_csv(\"new_AMZN.csv\")\n",
        "#df3에서 Close, Volume 컬럼을 선택해서 데이터프레임으로 출력해보세요.\n",
        "df3[[\"Close\", \"Volume\"]]\n",
        "df3.iloc[ : , [4,6]]"
      ],
      "metadata": {
        "colab": {
          "base_uri": "https://localhost:8080/",
          "height": 424
        },
        "id": "djWwqPrCoGue",
        "outputId": "10bd3ea9-9ec1-4165-f0df-1c5897774cb0"
      },
      "execution_count": 43,
      "outputs": [
        {
          "output_type": "execute_result",
          "data": {
            "text/plain": [
              "           Close    Volume\n",
              "0    1864.819946   2893500\n",
              "1    1861.689941   2749900\n",
              "2    1887.310059   3373800\n",
              "3    1923.770020   4640400\n",
              "4    1901.750000   3675800\n",
              "..           ...       ...\n",
              "247  2042.760010   4655600\n",
              "248  2168.870117   6716700\n",
              "249  2283.320068   8087200\n",
              "250  2307.679932   6866600\n",
              "251  2408.189941  11968300\n",
              "\n",
              "[252 rows x 2 columns]"
            ],
            "text/html": [
              "\n",
              "  <div id=\"df-517b01b3-bf0e-4667-a161-766cb302ee54\" class=\"colab-df-container\">\n",
              "    <div>\n",
              "<style scoped>\n",
              "    .dataframe tbody tr th:only-of-type {\n",
              "        vertical-align: middle;\n",
              "    }\n",
              "\n",
              "    .dataframe tbody tr th {\n",
              "        vertical-align: top;\n",
              "    }\n",
              "\n",
              "    .dataframe thead th {\n",
              "        text-align: right;\n",
              "    }\n",
              "</style>\n",
              "<table border=\"1\" class=\"dataframe\">\n",
              "  <thead>\n",
              "    <tr style=\"text-align: right;\">\n",
              "      <th></th>\n",
              "      <th>Close</th>\n",
              "      <th>Volume</th>\n",
              "    </tr>\n",
              "  </thead>\n",
              "  <tbody>\n",
              "    <tr>\n",
              "      <th>0</th>\n",
              "      <td>1864.819946</td>\n",
              "      <td>2893500</td>\n",
              "    </tr>\n",
              "    <tr>\n",
              "      <th>1</th>\n",
              "      <td>1861.689941</td>\n",
              "      <td>2749900</td>\n",
              "    </tr>\n",
              "    <tr>\n",
              "      <th>2</th>\n",
              "      <td>1887.310059</td>\n",
              "      <td>3373800</td>\n",
              "    </tr>\n",
              "    <tr>\n",
              "      <th>3</th>\n",
              "      <td>1923.770020</td>\n",
              "      <td>4640400</td>\n",
              "    </tr>\n",
              "    <tr>\n",
              "      <th>4</th>\n",
              "      <td>1901.750000</td>\n",
              "      <td>3675800</td>\n",
              "    </tr>\n",
              "    <tr>\n",
              "      <th>...</th>\n",
              "      <td>...</td>\n",
              "      <td>...</td>\n",
              "    </tr>\n",
              "    <tr>\n",
              "      <th>247</th>\n",
              "      <td>2042.760010</td>\n",
              "      <td>4655600</td>\n",
              "    </tr>\n",
              "    <tr>\n",
              "      <th>248</th>\n",
              "      <td>2168.870117</td>\n",
              "      <td>6716700</td>\n",
              "    </tr>\n",
              "    <tr>\n",
              "      <th>249</th>\n",
              "      <td>2283.320068</td>\n",
              "      <td>8087200</td>\n",
              "    </tr>\n",
              "    <tr>\n",
              "      <th>250</th>\n",
              "      <td>2307.679932</td>\n",
              "      <td>6866600</td>\n",
              "    </tr>\n",
              "    <tr>\n",
              "      <th>251</th>\n",
              "      <td>2408.189941</td>\n",
              "      <td>11968300</td>\n",
              "    </tr>\n",
              "  </tbody>\n",
              "</table>\n",
              "<p>252 rows × 2 columns</p>\n",
              "</div>\n",
              "    <div class=\"colab-df-buttons\">\n",
              "\n",
              "  <div class=\"colab-df-container\">\n",
              "    <button class=\"colab-df-convert\" onclick=\"convertToInteractive('df-517b01b3-bf0e-4667-a161-766cb302ee54')\"\n",
              "            title=\"Convert this dataframe to an interactive table.\"\n",
              "            style=\"display:none;\">\n",
              "\n",
              "  <svg xmlns=\"http://www.w3.org/2000/svg\" height=\"24px\" viewBox=\"0 -960 960 960\">\n",
              "    <path d=\"M120-120v-720h720v720H120Zm60-500h600v-160H180v160Zm220 220h160v-160H400v160Zm0 220h160v-160H400v160ZM180-400h160v-160H180v160Zm440 0h160v-160H620v160ZM180-180h160v-160H180v160Zm440 0h160v-160H620v160Z\"/>\n",
              "  </svg>\n",
              "    </button>\n",
              "\n",
              "  <style>\n",
              "    .colab-df-container {\n",
              "      display:flex;\n",
              "      gap: 12px;\n",
              "    }\n",
              "\n",
              "    .colab-df-convert {\n",
              "      background-color: #E8F0FE;\n",
              "      border: none;\n",
              "      border-radius: 50%;\n",
              "      cursor: pointer;\n",
              "      display: none;\n",
              "      fill: #1967D2;\n",
              "      height: 32px;\n",
              "      padding: 0 0 0 0;\n",
              "      width: 32px;\n",
              "    }\n",
              "\n",
              "    .colab-df-convert:hover {\n",
              "      background-color: #E2EBFA;\n",
              "      box-shadow: 0px 1px 2px rgba(60, 64, 67, 0.3), 0px 1px 3px 1px rgba(60, 64, 67, 0.15);\n",
              "      fill: #174EA6;\n",
              "    }\n",
              "\n",
              "    .colab-df-buttons div {\n",
              "      margin-bottom: 4px;\n",
              "    }\n",
              "\n",
              "    [theme=dark] .colab-df-convert {\n",
              "      background-color: #3B4455;\n",
              "      fill: #D2E3FC;\n",
              "    }\n",
              "\n",
              "    [theme=dark] .colab-df-convert:hover {\n",
              "      background-color: #434B5C;\n",
              "      box-shadow: 0px 1px 3px 1px rgba(0, 0, 0, 0.15);\n",
              "      filter: drop-shadow(0px 1px 2px rgba(0, 0, 0, 0.3));\n",
              "      fill: #FFFFFF;\n",
              "    }\n",
              "  </style>\n",
              "\n",
              "    <script>\n",
              "      const buttonEl =\n",
              "        document.querySelector('#df-517b01b3-bf0e-4667-a161-766cb302ee54 button.colab-df-convert');\n",
              "      buttonEl.style.display =\n",
              "        google.colab.kernel.accessAllowed ? 'block' : 'none';\n",
              "\n",
              "      async function convertToInteractive(key) {\n",
              "        const element = document.querySelector('#df-517b01b3-bf0e-4667-a161-766cb302ee54');\n",
              "        const dataTable =\n",
              "          await google.colab.kernel.invokeFunction('convertToInteractive',\n",
              "                                                    [key], {});\n",
              "        if (!dataTable) return;\n",
              "\n",
              "        const docLinkHtml = 'Like what you see? Visit the ' +\n",
              "          '<a target=\"_blank\" href=https://colab.research.google.com/notebooks/data_table.ipynb>data table notebook</a>'\n",
              "          + ' to learn more about interactive tables.';\n",
              "        element.innerHTML = '';\n",
              "        dataTable['output_type'] = 'display_data';\n",
              "        await google.colab.output.renderOutput(dataTable, element);\n",
              "        const docLink = document.createElement('div');\n",
              "        docLink.innerHTML = docLinkHtml;\n",
              "        element.appendChild(docLink);\n",
              "      }\n",
              "    </script>\n",
              "  </div>\n",
              "\n",
              "\n",
              "<div id=\"df-27744c4f-0ecf-4db5-a950-0f15f50543bb\">\n",
              "  <button class=\"colab-df-quickchart\" onclick=\"quickchart('df-27744c4f-0ecf-4db5-a950-0f15f50543bb')\"\n",
              "            title=\"Suggest charts\"\n",
              "            style=\"display:none;\">\n",
              "\n",
              "<svg xmlns=\"http://www.w3.org/2000/svg\" height=\"24px\"viewBox=\"0 0 24 24\"\n",
              "     width=\"24px\">\n",
              "    <g>\n",
              "        <path d=\"M19 3H5c-1.1 0-2 .9-2 2v14c0 1.1.9 2 2 2h14c1.1 0 2-.9 2-2V5c0-1.1-.9-2-2-2zM9 17H7v-7h2v7zm4 0h-2V7h2v10zm4 0h-2v-4h2v4z\"/>\n",
              "    </g>\n",
              "</svg>\n",
              "  </button>\n",
              "\n",
              "<style>\n",
              "  .colab-df-quickchart {\n",
              "      --bg-color: #E8F0FE;\n",
              "      --fill-color: #1967D2;\n",
              "      --hover-bg-color: #E2EBFA;\n",
              "      --hover-fill-color: #174EA6;\n",
              "      --disabled-fill-color: #AAA;\n",
              "      --disabled-bg-color: #DDD;\n",
              "  }\n",
              "\n",
              "  [theme=dark] .colab-df-quickchart {\n",
              "      --bg-color: #3B4455;\n",
              "      --fill-color: #D2E3FC;\n",
              "      --hover-bg-color: #434B5C;\n",
              "      --hover-fill-color: #FFFFFF;\n",
              "      --disabled-bg-color: #3B4455;\n",
              "      --disabled-fill-color: #666;\n",
              "  }\n",
              "\n",
              "  .colab-df-quickchart {\n",
              "    background-color: var(--bg-color);\n",
              "    border: none;\n",
              "    border-radius: 50%;\n",
              "    cursor: pointer;\n",
              "    display: none;\n",
              "    fill: var(--fill-color);\n",
              "    height: 32px;\n",
              "    padding: 0;\n",
              "    width: 32px;\n",
              "  }\n",
              "\n",
              "  .colab-df-quickchart:hover {\n",
              "    background-color: var(--hover-bg-color);\n",
              "    box-shadow: 0 1px 2px rgba(60, 64, 67, 0.3), 0 1px 3px 1px rgba(60, 64, 67, 0.15);\n",
              "    fill: var(--button-hover-fill-color);\n",
              "  }\n",
              "\n",
              "  .colab-df-quickchart-complete:disabled,\n",
              "  .colab-df-quickchart-complete:disabled:hover {\n",
              "    background-color: var(--disabled-bg-color);\n",
              "    fill: var(--disabled-fill-color);\n",
              "    box-shadow: none;\n",
              "  }\n",
              "\n",
              "  .colab-df-spinner {\n",
              "    border: 2px solid var(--fill-color);\n",
              "    border-color: transparent;\n",
              "    border-bottom-color: var(--fill-color);\n",
              "    animation:\n",
              "      spin 1s steps(1) infinite;\n",
              "  }\n",
              "\n",
              "  @keyframes spin {\n",
              "    0% {\n",
              "      border-color: transparent;\n",
              "      border-bottom-color: var(--fill-color);\n",
              "      border-left-color: var(--fill-color);\n",
              "    }\n",
              "    20% {\n",
              "      border-color: transparent;\n",
              "      border-left-color: var(--fill-color);\n",
              "      border-top-color: var(--fill-color);\n",
              "    }\n",
              "    30% {\n",
              "      border-color: transparent;\n",
              "      border-left-color: var(--fill-color);\n",
              "      border-top-color: var(--fill-color);\n",
              "      border-right-color: var(--fill-color);\n",
              "    }\n",
              "    40% {\n",
              "      border-color: transparent;\n",
              "      border-right-color: var(--fill-color);\n",
              "      border-top-color: var(--fill-color);\n",
              "    }\n",
              "    60% {\n",
              "      border-color: transparent;\n",
              "      border-right-color: var(--fill-color);\n",
              "    }\n",
              "    80% {\n",
              "      border-color: transparent;\n",
              "      border-right-color: var(--fill-color);\n",
              "      border-bottom-color: var(--fill-color);\n",
              "    }\n",
              "    90% {\n",
              "      border-color: transparent;\n",
              "      border-bottom-color: var(--fill-color);\n",
              "    }\n",
              "  }\n",
              "</style>\n",
              "\n",
              "  <script>\n",
              "    async function quickchart(key) {\n",
              "      const quickchartButtonEl =\n",
              "        document.querySelector('#' + key + ' button');\n",
              "      quickchartButtonEl.disabled = true;  // To prevent multiple clicks.\n",
              "      quickchartButtonEl.classList.add('colab-df-spinner');\n",
              "      try {\n",
              "        const charts = await google.colab.kernel.invokeFunction(\n",
              "            'suggestCharts', [key], {});\n",
              "      } catch (error) {\n",
              "        console.error('Error during call to suggestCharts:', error);\n",
              "      }\n",
              "      quickchartButtonEl.classList.remove('colab-df-spinner');\n",
              "      quickchartButtonEl.classList.add('colab-df-quickchart-complete');\n",
              "    }\n",
              "    (() => {\n",
              "      let quickchartButtonEl =\n",
              "        document.querySelector('#df-27744c4f-0ecf-4db5-a950-0f15f50543bb button');\n",
              "      quickchartButtonEl.style.display =\n",
              "        google.colab.kernel.accessAllowed ? 'block' : 'none';\n",
              "    })();\n",
              "  </script>\n",
              "</div>\n",
              "\n",
              "    </div>\n",
              "  </div>\n"
            ],
            "application/vnd.google.colaboratory.intrinsic+json": {
              "type": "dataframe",
              "summary": "{\n  \"name\": \"df3\",\n  \"rows\": 252,\n  \"fields\": [\n    {\n      \"column\": \"Close\",\n      \"properties\": {\n        \"dtype\": \"number\",\n        \"std\": 114.33864368604397,\n        \"min\": 1676.609985,\n        \"max\": 2408.189941,\n        \"num_unique_values\": 249,\n        \"samples\": [\n          1791.439941,\n          1950.630005,\n          1833.51001\n        ],\n        \"semantic_type\": \"\",\n        \"description\": \"\"\n      }\n    },\n    {\n      \"column\": \"Volume\",\n      \"properties\": {\n        \"dtype\": \"number\",\n        \"std\": 2035731,\n        \"min\": 881300,\n        \"max\": 15567300,\n        \"num_unique_values\": 252,\n        \"samples\": [\n          2097600,\n          8432600,\n          3493200\n        ],\n        \"semantic_type\": \"\",\n        \"description\": \"\"\n      }\n    }\n  ]\n}"
            }
          },
          "metadata": {},
          "execution_count": 43
        }
      ]
    },
    {
      "cell_type": "code",
      "source": [
        "#creditapprovaluci.csv 파일을 credit로 읽으세요\n",
        "credit = pd.read_csv(\"creditApprovalUCI.csv\")  #index_col, encoding=\"cp949\"\n",
        "# head()명령어를 사용해서 값을 확인해보세요\n",
        "credit.head()\n",
        "#수치형으로 된 컬럼만 선택해서 credit2라는 데이터프레임 만드세요\n",
        "num_cols = [\"A2\", \"A3\", \"A8\", \"A14\",\"A15\", \"A16\"]\n",
        "credit2 = credit[ num_cols]\n",
        "#0. 결측치(missing)\n",
        "credit2.isnull().mean().round(2)\n",
        "#1. 지우기\n",
        "credit2.dropna()  #inplace=True,   subset=[\"A3\",\"A2\"]\n",
        "#2. imputing\n",
        "credit2.fillna(0)   #0으로\n",
        "credit2.A3.fillna( credit2.A3.mean() )\n",
        "#3. A1, A4 컬럼만 선택해서 credit3\n",
        "credit3 = credit[ [\"A1\", \"A4\"]]\n",
        "#A4의 결측율\n",
        "credit3.A4.isnull().mean()\n",
        "#A4 각 값의 빈도\n",
        "credit3.A4.value_counts()\n",
        "credit3.A4.fillna(\"u\")"
      ],
      "metadata": {
        "colab": {
          "base_uri": "https://localhost:8080/"
        },
        "id": "P1qJcub0SsC6",
        "outputId": "b6e7c0a8-2928-48da-bf5e-ede60ab32be9"
      },
      "execution_count": 66,
      "outputs": [
        {
          "output_type": "execute_result",
          "data": {
            "text/plain": [
              "0      u\n",
              "1      u\n",
              "2      u\n",
              "3      u\n",
              "4      u\n",
              "      ..\n",
              "685    y\n",
              "686    u\n",
              "687    y\n",
              "688    u\n",
              "689    u\n",
              "Name: A4, Length: 690, dtype: object"
            ]
          },
          "metadata": {},
          "execution_count": 66
        }
      ]
    },
    {
      "cell_type": "code",
      "source": [
        "#join, index\n",
        "# AMZN.csv amzn으로 읽으세요. Open, Low을 1~20행 ->amzn1\n",
        "# Low, Close을 10~30행->amzn2\n",
        "amzn = pd.read_csv(\"AMZN.csv\", index_col=0,\n",
        "                   parse_dates=True)  #amzn.index = amzn.Date\n",
        "amzn1 = amzn.iloc[0:20, [1, 3]]\n",
        "amzn2 = amzn.iloc[10:30, 3:5]\n",
        "amzn3 = amzn1.join(amzn2, rsuffix=\".amzn2\", how=\"outer\")\n",
        "\n",
        "# pd.concat\n",
        "pd.concat(  [amzn1, amzn2])   #axis=1 컬럼으로 추가\n",
        "\n",
        "#amzn 데이터프레임에서 Volume 컬럼을 갖는amzn4, Adj Close 컬럼을 amzn5\n",
        "#join으로 합치시고, pd.concat으로도 합쳐보세요\n",
        "amzn4 = amzn[ [\"Volume\"] ]\n",
        "amzn5 = amzn[[\"Adj Close\"]]\n",
        "amzn4.join(amzn5)\n",
        "pd.concat([amzn4, amzn5], axis=1)"
      ],
      "metadata": {
        "id": "HXyGwyoHe4qH"
      },
      "execution_count": null,
      "outputs": []
    },
    {
      "cell_type": "code",
      "source": [
        "!pip install pykrx   #pykrx 대신에 다른 라이브러리명"
      ],
      "metadata": {
        "id": "P0BYJzfTl_T9"
      },
      "execution_count": null,
      "outputs": []
    },
    {
      "cell_type": "code",
      "source": [
        "from pykrx import stock\n",
        "kr1 = stock.get_market_ohlcv(\"20240704\")\n",
        "kr2 = stock.get_market_fundamental(\"20240704\")\n",
        "##################################################################\n",
        "# kr1, kr2 티커를 기준으로 합치세요\n",
        "kr3 = kr1.join(kr2)\n",
        "#합친 kr3를 csv로 만들어보세요\n",
        "kr3.to_csv(\"kr3.csv\")\n",
        "stock.get_market_ohlcv_by_date(\"20230704\",\"20240703\", \"005930\")"
      ],
      "metadata": {
        "id": "49L1AzENnvs0"
      },
      "execution_count": null,
      "outputs": []
    },
    {
      "cell_type": "code",
      "source": [
        "import seaborn as sns\n",
        "flight = sns.load_dataset(\"flights\")\n",
        "flight.head()\n",
        "# flights의 결측율을 체크해보세요\n",
        "flight.isnull().mean()\n",
        "# year에 대해서 value_counts\n",
        "flight.year.value_counts()\n",
        "# month, passengers에 대해서 describe\n",
        "flight[[\"month\", \"passengers\"]].describe()\n",
        "flight.head()\n",
        "#flight.pivot_table(index=\"month\", columns=\"year\", values=\"passengers\").plot()\n",
        "\n",
        "diamonds = sns.load_dataset(\"diamonds\")\n",
        "diamonds.pivot_table(index=\"cut\", columns=\"color\", values=\"price\")\n",
        "#diamonds.groupby([\"cut\", \"color\"])[\"price\"].mean()\n"
      ],
      "metadata": {
        "id": "Xe-GCdN_si-e"
      },
      "execution_count": null,
      "outputs": []
    },
    {
      "cell_type": "code",
      "source": [
        "flight.replace(  [\"Jan\", \"Feb\"], [\"1월\", \"2월\"]  )\n",
        "flight.replace(  {\"Jan\": \"1월\"}  )\n",
        "\n",
        "dict1 = {\"Jan\": \"1월\"} #dict1.keys() dict1.values()\n",
        "flight.replace( dict1 )  #regex=True\n",
        "\n",
        "def func1(param1):\n",
        "  tmp = param1*2\n",
        "  return tmp\n",
        "\n",
        "flight.passengers.apply( func1 )  #데이터프레임.applymap( func1 )\n",
        "#flight의 year, month로 passengers를 pivot_table -> func1을 전체 데이터프레임에..\n",
        "fl1 = flight.pivot_table(index=\"year\", columns=\"month\", values=\"passengers\")\n",
        "fl1.applymap( func1 )\n",
        "\n",
        "#sample\n",
        "diamonds.sample(5)\n",
        "diamonds.price.between(700, 1000 )  # 범위 내에 값이 있는지 체크"
      ],
      "metadata": {
        "id": "r8ZaXvTrwu7R"
      },
      "execution_count": null,
      "outputs": []
    },
    {
      "cell_type": "code",
      "source": [
        "# mortDefault.zip을 업로드 한 후, 다음 명령어로 압축을 해제하세요\n",
        "#!unzip mortDefault.zip\n",
        "#1. 세 csv 파일을 각각 mort2007, mort2008, mort2009로 읽으세요\n",
        "mort2007 = pd.read_csv(\"mortDefault2007.csv\")\n",
        "mort2008 = pd.read_csv(\"mortDefault2008.csv\")\n",
        "mort2009 = pd.read_csv(\"mortDefault2009.csv\")\n",
        "#2. 세 데이터프레임을 하나로 연결해보세요(행 방향으로, mort)\n",
        "mort = pd.concat( [mort2007, mort2008, mort2009] )\n",
        "#3. mort 데이터프레임의 결측율을 확인해보세요\n",
        "mort.isnull().mean()\n",
        "#4. mort의 year와 default컬럼에 대해서 creditscore를 pivot_table로 정리하세요\n",
        "mort.pivot_table(index=\"year\", columns=\"default\", values=\"creditScore\")\n",
        "#5. mort2007과 mort2008을 pd.concat으로 합쳐보세요( 열방향 axis=1, mort2)\n",
        "mort2 = pd.concat( [mort2007, mort2008], axis=1 )\n",
        "#6. mort의 default에 대해서 value_counts를 적용해보세요\n",
        "mort.default.value_counts()\n",
        "#7. mort에서 100만1번행에서 110만 행, 2~4열을 선택해보세요\n",
        "mort.iloc[1000000:1100000, 1:4]\n",
        "#8. mort에서 sample을 이용해서 랜덤하게 10000건을 선택해서 mort3으로... mort3의\n",
        "#   creditscore를 2배로 하는 함수를 apply로 적용해서 new_col이름으로 열추가하세요\n",
        "#def func1(param1):    tmp = param1*2      return tmp\n",
        "#데이터프레임.컬럼.apply\n",
        "mort3 = mort.sample( 10000 )\n",
        "mort3[\"new_col\"] = mort3.creditScore.apply(func1)"
      ],
      "metadata": {
        "id": "8FHSDrWk5ytS"
      },
      "execution_count": 144,
      "outputs": []
    },
    {
      "cell_type": "markdown",
      "source": [],
      "metadata": {
        "id": "HWXIEmKb5yR2"
      }
    },
    {
      "cell_type": "code",
      "execution_count": null,
      "metadata": {
        "id": "Cizy3TSuMpcz"
      },
      "outputs": [],
      "source": [
        " #값의 할당\n",
        "friend=1\n",
        "Freind=10\n",
        "a=3;b=4\n",
        "c, d = 5,6\n",
        "type(friend)\n",
        "\n",
        "#다음 명령어는 예약어이므로 변수명으로 사용 불가\n",
        "#and, as, assert, break, class, continue, def, del, elif, else, except, is, finally\n",
        "#for, from, global, if, import, in, is, lambda, nonlocal,  not, or, pass, raise, return\n",
        "#try, while, with, yield\n",
        "\n",
        "year=2008\n",
        "month=12\n",
        "print(year, month)\n",
        "\n",
        "type(3.14)\n",
        "type(1)\n",
        "\n",
        "#연산\n",
        "r=2\n",
        "circle_area= 3.14*(r**2)\n",
        "x=3\n",
        "y=4\n",
        "triangle_area=x*y/2\n",
        "print( circle_area, triangle_area)\n",
        "\n",
        "x/y\n",
        "(x*1.2)/y\n",
        "\n",
        "#문자열 '' 또는 \"\"로 표현\n",
        "str1 = 'string'\n",
        "str2 = \"string\"\n",
        "str3 = \"this is 'string'\"\n",
        "\n",
        "#문자열 계산\n",
        "'py' 'thon'\n",
        "'py'+'thon'\n",
        "'py'*3\n",
        "\n",
        "a=\"python\"\n",
        "a[1]\n",
        "a[1:4]\n",
        "a[:]\n",
        "a[::2]\n",
        "\n",
        "#형 변환\n",
        "str(3.14)\n",
        "int(\"49\")\n",
        "float(23)"
      ]
    },
    {
      "cell_type": "markdown",
      "source": [
        "## 3. 함수의 정의"
      ],
      "metadata": {
        "id": "UVysgjV9NzZ1"
      }
    },
    {
      "cell_type": "code",
      "source": [
        "def Times(a,b):\n",
        "\ta=a+1\n",
        "\tb=b+1\n",
        "\treturn a*b\n",
        "\n",
        "#함수 객체 확인\n",
        "globals()\n",
        "\n",
        "Times\n",
        "Times(10,10)\n",
        "\n",
        "myTimes = Times\n",
        "r = myTimes(10,10)\n",
        "\n",
        "\n",
        "#return 없으면 None 반환\n",
        "def setValue( newValue):\n",
        "\tx=newValue\n",
        "\n",
        "retval = setValue(10)\n",
        "print(retval)"
      ],
      "metadata": {
        "id": "EggqbaGFNzgA"
      },
      "execution_count": null,
      "outputs": []
    },
    {
      "cell_type": "markdown",
      "source": [
        "##4. 반복문"
      ],
      "metadata": {
        "id": "lhBGTvBLNzmU"
      }
    },
    {
      "cell_type": "code",
      "source": [
        "\n",
        "for i in [1,2,3,4]:\n",
        "        print(i)\n",
        "\n",
        "for i in range(1,5):\t#숫자 리스트를 자동으로 만들어주는 함수, range, 1부터 5미만 정수\n",
        "        print(i)\n",
        "\n",
        "\n",
        "#리스트 내 for 포함\n",
        "#형식: [표현식 for 항목 in 반복가능객체 if 조건]\n",
        "\n",
        "a = [1,2,3,4]\n",
        "result = []\n",
        "for num in a:\n",
        "    result.append(num*3)\n",
        "\n",
        "print(result)\n",
        "\n",
        "result = [num * 3 for num in a]\n",
        "print(result)\n",
        "\n",
        "result = [num * 3 for num in a if num % 2 == 0]\n",
        "print(result)"
      ],
      "metadata": {
        "id": "rmJ5YbK-Nzso"
      },
      "execution_count": null,
      "outputs": []
    },
    {
      "cell_type": "markdown",
      "source": [
        "##5 bool 연산, 객체 복사"
      ],
      "metadata": {
        "id": "z_jA21pDOPKw"
      }
    },
    {
      "cell_type": "code",
      "source": [
        "#bool\n",
        "1<2\n",
        "1 !=2\n",
        "1==2\n",
        "True and False\n",
        "True & False\n",
        "True or False\n",
        "False | False\n",
        "not True\n",
        "\n",
        "bool(0)\n",
        "bool(-1)\n",
        "bool(1)\n",
        "bool('test')\n",
        "bool(None)\n",
        "\n",
        "#얕은 복사/깊은 복사\n",
        "a = 1 #1객체 생성 후 1의 주소가 a에 저장\n",
        "\n",
        "a=[1,2,3]\n",
        "b=a\n",
        "a[0]=38\n",
        "a\n",
        "b\n",
        "id(a)\n",
        "id(b)\n",
        "\n",
        "#a와 b가 객체를 공유하지 않도록 복사: 리스트\n",
        "a=[1,2,3]\n",
        "b = a[:]\n",
        "a[0]=38\n",
        "id(a)\n",
        "id(b)\n",
        "a\n",
        "b\n",
        "\n",
        "#리스트 외의 자료->deepcopy 이용\n",
        "import copy\n",
        "a = [1,2,3]\n",
        "b = copy.deepcopy(a)\n",
        "a[0] = 38\n",
        "a\n",
        "b"
      ],
      "metadata": {
        "id": "0FYLNAOQOO8c"
      },
      "execution_count": null,
      "outputs": []
    },
    {
      "cell_type": "markdown",
      "source": [
        "##6 세트, 리스트, 튜플"
      ],
      "metadata": {
        "id": "7k8sB-_ROW18"
      }
    },
    {
      "cell_type": "code",
      "source": [
        "#세트, 값의 모임, 순서없음, {}\n",
        "a={1,2,3}\n",
        "b={3,4,5}\n",
        "type(a)\n",
        "\n",
        "a.union(b)\n",
        "a.intersection(b)\n",
        "a-b\n",
        "a|b\n",
        "a&b\n",
        "\n",
        "#리스트: 값의 나열, 순서있음, 여러 종류 가능,0부터 시작하는 인덱스, 슬라이싱\n",
        "colors = ['red','green','gold']\n",
        "type(colors)\n",
        "\n",
        "#값의 추가\n",
        "colors.append('blue')\n",
        "colors\n",
        "\n",
        "#위치 지정 값 추가\n",
        "colors.insert(1, 'black')\n",
        "\n",
        "#여러 값 추가->extend사용하여 tuple, list 추가\n",
        "colors.extend( ['white', 'gray'])\n",
        "colors\n",
        "\n",
        "colors += ['red']\n",
        "colors\n",
        "colors +='red'\n",
        "colors\n",
        "\n",
        "#값 찾기\n",
        "colors.index('red')\n",
        "colors.index('red', 1)\n",
        "\n",
        "colors.count('red')\n",
        "colors.pop()\n",
        "colors.pop(1)\n",
        "\n",
        "#튜플: 리스트와 유사, []대신 (), 읽기 전용,속도 빠름, 다만 메서드 적게 지원(count, index)\n",
        "t= (1,2,3)\n",
        "type(t)\n",
        "a,b=1,2\n",
        "(a,b) = (1,2)\n",
        "print(a,b)\n",
        "\n",
        "a,b = b,a\n",
        "print(a,b)\n",
        "\n",
        "#*총정리*\n",
        "#리스트, 세트, 튜플 사용 및 변환 (세트<리스트<튜플)\n",
        "a = set( (1,2,3) )\n",
        "type(a)\n",
        "b=list(a)\n",
        "b\n",
        "type(b)\n",
        "c=tuple(b)\n",
        "c\n",
        "type(c)\n",
        "d = set(c)\n",
        "d\n",
        "type(d)\n",
        "\n",
        "#in 연산자\n",
        "a = set( (1,2,3) )\n",
        "type(a)\n",
        "1 in a\n",
        "\n",
        "b = list(a)\n",
        "type(b)\n",
        "2 in b\n",
        "c = tuple(b)\n",
        "type(c)\n",
        "3 in c\n",
        "4 in a\n"
      ],
      "metadata": {
        "id": "RsQPCwSKOW-m"
      },
      "execution_count": null,
      "outputs": []
    },
    {
      "cell_type": "markdown",
      "source": [
        "##7. 딕셔너리\n",
        " - 키와 값의 쌍, dict 또는 세트로 생성 가능/키로 값 가져오지만/인덱싱 미지원\n"
      ],
      "metadata": {
        "id": "qParErdvOXIK"
      }
    },
    {
      "cell_type": "code",
      "source": [
        "d = dict( a=1, b=3, c=5)\n",
        "type(d)\n",
        "\n",
        "color = {\"apple\":\"red\", \"banana\":\"yellow\"}\n",
        "color\n",
        "color[\"apple\"]\n",
        "color[0]  #미지원\n",
        "\n",
        "#값의 추가 및 변경\n",
        "color\n",
        "color[\"cherry\"]=\"red\"\n",
        "color[\"apple\"]=\"green\"\n",
        "\n",
        "del color['cherry']\n",
        "color.clear()\n",
        ""
      ],
      "metadata": {
        "id": "JyH0rlLPOXPV"
      },
      "execution_count": null,
      "outputs": []
    },
    {
      "cell_type": "markdown",
      "source": [
        "##8. 세트 연습"
      ],
      "metadata": {
        "id": "gc5k2274OmTG"
      }
    },
    {
      "cell_type": "code",
      "source": [
        "#비어있는 세트 생성하기\n",
        "empty_set = set()\n",
        "\n",
        "#세트 생성\n",
        "languages = {'python', 'r', 'java'} # 직접 정의\n",
        "snakes = set(['cobra', 'viper', 'python']) # 리스트를 변환\n",
        "\n",
        "# 원소 개수 확인 및 원소 여부 확인\n",
        "len(languages)\n",
        "'python' in languages\n",
        "\n",
        "# 연산\n",
        "languages & snakes #교집합\n",
        "languages | snakes #합집합\n",
        "languages - snakes #차집합\n",
        "snakes - languages #차집합"
      ],
      "metadata": {
        "id": "38tVRRDpOmbN"
      },
      "execution_count": null,
      "outputs": []
    },
    {
      "cell_type": "markdown",
      "source": [
        "##9. 리스트 연습"
      ],
      "metadata": {
        "id": "rhkZhGFiOmiK"
      }
    },
    {
      "cell_type": "code",
      "source": [
        "# 비어있는 리스트 만들기\n",
        "empty_list = []\n",
        "empty_list = list()\n",
        "\n",
        "# 직접 정의하기\n",
        "simpsons = ['homer', 'marge', 'bart']\n",
        "\n",
        "# 리스트 확인\n",
        "simpsons[0]\n",
        "len(simpsons)\n",
        "\n",
        "# 추가/삭제\n",
        "simpsons.append('lisa') #맨 끝에 추가\n",
        "simpsons.extend(['itchy', 'scratchy']) # 끝에 여러 값 추가\n",
        "simpsons.insert(0, 'maggie') # 위치 지정 후 추가\n",
        "simpsons.remove('bart') # 처음 일치하는 값 발견하여 삭제\n",
        "simpsons.pop(0) # 해당 값 삭제 및 반환\n",
        "del simpsons[0] # 해당 값 삭제\n",
        "simpsons[0] = 'krusty' #값 변경\n",
        "\n",
        "# 리스트 결합: extend보다 느리게 수행\n",
        "neighbors = simpsons + ['ned','rod','todd']\n",
        "\n",
        "# 리스트에서 원소 발견\n",
        "simpsons.count('lisa') # 개수 반환\n",
        "simpsons.index('itchy') # 첫 출현 위치 반환\n",
        "\n",
        "# 슬라이싱 [start:end:stride]\n",
        "weekdays = ['mon','tues','wed','thurs','fri']\n",
        "weekdays[0] #1번째\n",
        "weekdays[0:3] #1~3번째\n",
        "weekdays[:3] # 1~3번째\n",
        "weekdays[3:] # 3~4번째\n",
        "weekdays[-1] # 마지막 원소\n",
        "weekdays[::2] # 처음 부터 매번 2개째 원소\n",
        "\n",
        "weekdays[::-1] # 거꾸로 출력\n",
        "# 또는 아래처럼 수행 가능\n",
        "list(reversed(weekdays))\n",
        "\n",
        "#정렬(리스트 값을 정렬하지만, 반환하지는 않음)\n",
        "simpsons.sort()\n",
        "simpsons.sort(reverse=True)\n",
        "\n",
        "# 정렬된 값을 보여주지만 원래 리스트에는 변동 없음\n",
        "sorted(simpsons)\n",
        "sorted(simpsons, reverse=True)\n",
        "\n",
        "# 같은 리스트 객체를 참조하는 두 리스트\n",
        "num = [1, 2, 3]\n",
        "same_num = num\n",
        "same_num[0] = 0 #둘 다 변경\n",
        "\n",
        "# 리스트 복사하는 3가지 방법\n",
        "new_num = num.copy()\n",
        "new_num = num[:]\n",
        "new_num = list(num)\n",
        "\n",
        "# +와 * 연산: 리스트 확장 및 복제\n",
        "[1, 2, 3] + [4, 5, 6]\n",
        "[\"a\"] * 2 + [\"b\"] * 3"
      ],
      "metadata": {
        "id": "-b-k6XJiOmo2"
      },
      "execution_count": null,
      "outputs": []
    },
    {
      "cell_type": "markdown",
      "source": [
        "##9. 튜플 연습"
      ],
      "metadata": {
        "id": "cAOFkqcaOmvi"
      }
    },
    {
      "cell_type": "code",
      "source": [
        "\n",
        "# 튜플 생성\n",
        "digits = (0, 1, 'two') # 직접 정의\n",
        "digits = tuple([0, 1, 'two']) # 리스트로 부터 생성\n",
        "zero = (0,) # 값이 1개인 경우에도 ,를 넣어줘야 튜플로 인식\n",
        "\n",
        "# 튜플 활용\n",
        "digits[2]\n",
        "len(digits)\n",
        "digits.count(0)\n",
        "digits.index(1)\n",
        "\n",
        "# 값 수정 불가\n",
        "# digits[2] = 2 #오류\n",
        "\n",
        "# +로 extend\n",
        "digits = digits + (3, 4)\n",
        "# *로 복제\n",
        "(3, 4) * 2"
      ],
      "metadata": {
        "id": "a3WFyXt5Om2G"
      },
      "execution_count": null,
      "outputs": []
    },
    {
      "cell_type": "markdown",
      "source": [
        "##10. 딕셔너리 연습"
      ],
      "metadata": {
        "id": "A-LUaTYkOz3f"
      }
    },
    {
      "cell_type": "code",
      "source": [
        "# 딕셔너리 생성\n",
        "empty_dict = {}\n",
        "empty_dict = dict()\n",
        "\n",
        "# 직접 생성 2가지 방법\n",
        "family = {'dad':'homer', 'mom':'marge', 'size':6}\n",
        "family = dict(dad='homer', mom='marge', size=6)\n",
        "\n",
        "# 리스트를 이용하여 생성\n",
        "list_of_tuples = [('dad','homer'), ('mom','marge'), ('size', 6)]\n",
        "family = dict(list_of_tuples)\n",
        "\n",
        "# 딕셔너리 확인\n",
        "family['dad'] # key에 대한 값 반환\n",
        "len(family)\n",
        "family.keys() # ['dad', 'mom', 'size']\n",
        "family.values() #  ['homer', 'marge', 6]\n",
        "family.items()  #아이템으로 구성된 리스트 반환\n",
        "\n",
        "'mom' in family\n",
        "'marge' in family # in 연산자는 key만 확인함\n",
        "\n",
        "# 값 변경\n",
        "family['cat'] = 'snowball' # 새로운 key-value 추가\n",
        "family['cat'] = 'snowball ii' # 기존 key의 값 변경\n",
        "del family['cat'] # 삭제\n",
        "family['kids'] = ['bart', 'lisa'] # 리스트도 값이 될 수 있음\n",
        "family.update({'baby':'maggie', 'grandpa':'abe'}) # 여러 아이템들을 추가\n",
        "\n",
        "# 딕셔너리 반환 값이 리스트처럼 활용되어서 인덱싱 가능\n",
        "family['kids'][0] # returns 'bart'\n",
        "family['kids'].remove('lisa') # 'lisa' 삭제"
      ],
      "metadata": {
        "id": "7aN7T8E0Oz99"
      },
      "execution_count": null,
      "outputs": []
    },
    {
      "cell_type": "markdown",
      "source": [
        "## 11. 리스트+반복문"
      ],
      "metadata": {
        "id": "k3UxQq6yO5LH"
      }
    },
    {
      "cell_type": "code",
      "source": [
        "# nums의 값으로 cubes에 추가\n",
        "nums = [1, 2, 3, 4, 5]\n",
        "cubes = []\n",
        "\n",
        "for num in nums:\n",
        "\tcubes.append(num**3)\n",
        "\n",
        "# 똑 같은 연산\n",
        "cubes = [num**3 for num in nums] # [1, 8, 27, 64, 125]\n",
        "\n",
        "# 짝수만 추가\n",
        "cubes_of_even = []\n",
        "for num in nums:\n",
        "\tif num % 2 == 0:\n",
        "\t\tcubes_of_even.append(num**3)\n",
        "\n",
        "# 똑 같은 연산\n",
        "cubes_of_even = [num**3 for num in nums if num % 2 == 0] # [8, 64]\n",
        "\n",
        "# 2차원 구조 1차원으로 변경\n",
        "matrix = [[1, 2], [3, 4]]\n",
        "items = []\n",
        "for row in matrix:\n",
        "\tfor item in row:\n",
        "\t\titems.append(item)\n",
        "\n",
        "# 똑 같은 연산\n",
        "items = [item for row in matrix for item in row]\n",
        "\n",
        "# 딕셔너리 만들기\n",
        "fruits = ['apple', 'banana', 'cherry']\n",
        "fruit_lengths = {fruit:len(fruit) for fruit in fruits} # {'apple': 5,'banana': 6, 'cherry': 6}\n"
      ],
      "metadata": {
        "id": "tMCYwLP_O5ST"
      },
      "execution_count": null,
      "outputs": []
    },
    {
      "cell_type": "markdown",
      "source": [
        "## 12. 파일입출력"
      ],
      "metadata": {
        "id": "QvaXkLb4O9GQ"
      }
    },
    {
      "cell_type": "code",
      "source": [
        "import os\n",
        "import tempfile\n",
        "# 임시 파일 경로 출력 및 파일 출력\n",
        "\n",
        "# 현재 작업 경로\n",
        "os.getcwd()\n",
        "\n",
        "# 경로 및 파일명 지정\n",
        "test1= os.getcwd()\n",
        "myfile = os.path.join(test1, \"test1.txt\")\n",
        "\n",
        "# Write\n",
        "lines = [\"test123\", \"test456\"]\n",
        "## write line by line\n",
        "fd = open(myfile, \"w\")\n",
        "fd.write(lines[0] + \"\\n\")\n",
        "fd.write(lines[1]+ \"\\n\")\n",
        "fd.close()\n",
        "\n",
        "## 파일 자동으로 닫기\n",
        "with open(myfile, 'w') as f:\n",
        "\tfor line in lines:\n",
        "\t\tf.write(line + '\\n')\n",
        "\n",
        "# 읽기\n",
        "## 한 줄씩 읽기\n",
        "f = open(myfile, \"r\")\n",
        "print(f.readline() )\n",
        "print(f.readline() )\n",
        "f.close()\n",
        "\n",
        "## 한 번에 다읽기\n",
        "f = open(myfile, 'r')\n",
        "lst1 = f.readlines() # one list, each line is one string\n",
        "f.close()\n",
        "\n",
        "#pandas 이용\n",
        "\n",
        "from pandas import read_csv, Series, DataFrame\n",
        "csv_data = read_csv(\"creditset.csv\")\n",
        "\n",
        "type(csv_data)\n",
        "csv_data.describe()\n",
        "\n",
        "#웹 페이지\n",
        "import requests\n",
        "from bs4 import BeautifulSoup\n",
        "\n",
        "# 예술가 리스트 페이지 접근\n",
        "page = requests.get('https://web.archive.org/web/20121007172955/https://www.nga.gov/collection/anZ1.htm')\n",
        "\n",
        "# BeautifulSoup\n",
        "soup = BeautifulSoup(page.text, 'html.parser')\n",
        "artist_name_list = soup.find(class_='BodyText')\t#  BodyText 클래스의 텍스트 추출\n",
        "artist_name_list_items = artist_name_list.find_all('a') #추출된 텍스트에서 a태그 값 추출\n",
        "\n",
        "#모든 예술가 이름 확인\n",
        "for artist_name in artist_name_list_items:\n",
        "    print(artist_name.prettify())"
      ],
      "metadata": {
        "id": "_OYUX1GMO9Np"
      },
      "execution_count": null,
      "outputs": []
    },
    {
      "cell_type": "markdown",
      "source": [
        "## 13. numpy"
      ],
      "metadata": {
        "id": "gDdHsjhJPKII"
      }
    },
    {
      "cell_type": "code",
      "source": [
        "import numpy as np\n",
        "\n",
        "a = np.array( [0,1,2,3,4,5])\n",
        "a.ndim\n",
        "a.shape\n",
        "a.dtype\n",
        "\n",
        "b = a.reshape((3,2))\n",
        "print(b)\n",
        "b.ndim\n",
        "b.shape\n",
        "\n",
        "\n",
        "#array 연산/인덱싱\n",
        "a*2\n",
        "a**2\n",
        "\n",
        "[1,2,3,4,5]*2\t#리스트와는 다름\n",
        "\n",
        "#기본 인덱싱\n",
        "a[ [2,3,4] ]\n",
        "a[ np.array( [2,3,4]) ]\t#인덱싱에 배열도 사용 가능\n",
        "\n",
        "#논리 연산\n",
        "a>4\n",
        "a[ a>4 ]\n",
        "a[ a>4 ] = 4\n",
        "\n",
        "# array 기본 활용 연습\n",
        "x = [0.0, 1, 2, 3, 4]\n",
        "y = np.array(x)\n",
        "y = np.array([[0.0, 1, 2, 3, 4], [5, 6, 7, 8, 9]])\n",
        "np.shape(y)\n",
        "y = np.array([[[1,2],[3,4]],[[5,6],[7,8]]])\n",
        "np.shape(y)\n",
        "\n",
        "x = [0, 1, 2, 3, 4] # Integers\n",
        "y = np.array(x)\n",
        "y.dtype\n",
        "\n",
        "x = [0.0, 1, 2, 3, 4] # 0.0 is a float\n",
        "y = np.array(x)\n",
        "y.dtype\n",
        "\n",
        "x = [0.0, 1, 2, 3, 4] # 하나라도 float이면 전체가 float임\n",
        "y = np.array(x)\n",
        "type(y)\n",
        "y * y # Elementbyelement\n",
        "\n",
        "#array + for 같이 사용\n",
        "a = np.array([[1, 2], [3, 4], [5, 6]], float)\n",
        "for x in a:\n",
        "    print(x)\n",
        "\n",
        "#array 값 접근하기\n",
        "x = np.array([1.0,2.0,3.0,4.0,5.0])\n",
        "x[0]\n",
        "\n",
        "x = np.array([[1.0,2,3],[4,5,6]])\n",
        "x[1,2]\n",
        "\n",
        "\n",
        "#슬라이싱\n",
        "arr = np.arange(10, dtype=float).reshape((2, 5))\n",
        "arr[0] # 0번째 원소\n",
        "arr[0, 3] # 0행 3열\n",
        "arr[0][3] # 0행3열\n",
        "\n",
        "\n",
        "arr[0, :] # 0행, 1차원 배열\n",
        "arr[:, 0] # 0열, 1차원 배열\n",
        "arr[:, :2] # 첫 2개 열\n",
        "arr[:, 2:] # 2 위치 이후 열\n",
        "arr2 = arr[:, 1:4] # 위치1 과 위치4 사이 열\n",
        "print(arr2)\n",
        "\n",
        "#슬라이싱2\n",
        "arr2 = arr[:, [1,2,3]] # arr 배열의 복사본\n",
        "print(arr2)\n",
        "arr2[0, 0] = 44\n",
        "print(arr2)\n",
        "print(arr)\n",
        "arr2 = arr[arr > 5] # arr 배열의 복사본\n",
        "print(arr2)\n",
        "arr2[0] = 44\n",
        "print(arr2)\n",
        "print(arr)\n",
        "\n",
        "arr[arr > 5] = 0\n",
        "print(arr)\n",
        "\n",
        "#---------------------------------------------------------------#\n",
        "#numpy 활용 통계량 계산\n",
        "\n",
        "x = np.arange(10.0)\t#0~9까지 10개 숫자를 갖는 자료구조 생성\n",
        "x.mean()\n",
        "\n",
        "np.mean(x)\n",
        "x= np.reshape(np.arange(20.0),(4,5))\n",
        "np.mean(x,0)\n",
        "\n",
        "np.median(x)\n",
        "\n",
        "np.std(x)\n",
        "np.var(x)\n",
        "\n"
      ],
      "metadata": {
        "id": "oiKZBV9rPKRK"
      },
      "execution_count": null,
      "outputs": []
    }
  ]
}