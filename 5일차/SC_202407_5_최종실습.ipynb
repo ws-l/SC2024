{
  "nbformat": 4,
  "nbformat_minor": 0,
  "metadata": {
    "colab": {
      "provenance": []
    },
    "kernelspec": {
      "name": "python3",
      "display_name": "Python 3"
    },
    "language_info": {
      "name": "python"
    }
  },
  "cells": [
    {
      "cell_type": "markdown",
      "source": [
        "# 실습 1\n",
        "\n",
        "신용카드 신청자들에 대해서 해당 신청의 승인 여부를 기록한 두 데이터를 merge한 후 전처리하고자 합니다.\n",
        "- 신청 관련 데이터: application_record.csv.zip / 신용 관련 데이터: credit_record.csv.zip\n",
        "- 출처: Kaggle, https://www.Kaggle.com/datasets/rikdifos/credit-card-approval-prediction\n",
        "\n",
        " - ID 컬럼 기준으로 merge\n",
        " - 결측치 Imputing: 범주형 변수의 nan 값은 others로 변경\n",
        " - STATUS 컬럼의 C와 X를 각각 6과 7로 변경\n",
        " - 수치형 변수들에 대해 Scaling\n",
        " - 전체 데이터 Train, Test로 8:2로 파티셔닝"
      ],
      "metadata": {
        "id": "Me91wOTimwVk"
      }
    },
    {
      "cell_type": "code",
      "source": [
        "#데이터프레임 merge\n",
        "df1.merge(df2)\n"
      ],
      "metadata": {
        "id": "OClkdel5vgi-"
      },
      "execution_count": null,
      "outputs": []
    },
    {
      "cell_type": "code",
      "source": [
        "#columns의 타입 변경\n",
        "df['STATUS']=df['STATUS'].astype(int)"
      ],
      "metadata": {
        "id": "xCnD1bNbvk25"
      },
      "execution_count": null,
      "outputs": []
    },
    {
      "cell_type": "code",
      "source": [
        "#수치형 컬럼 이름만 선택\n",
        "#dtype값의 확인\n",
        "numCol  = [col for col in df.columns if  df[col].dtype != \"O\"]"
      ],
      "metadata": {
        "id": "xU9vRcp4vlVe"
      },
      "execution_count": null,
      "outputs": []
    },
    {
      "cell_type": "markdown",
      "source": [
        "#실습 2\n",
        "mortdefault2009.csv는 2009년 모기지론과 관련한 데이터입니다.\n",
        "Feature의 수는 5개입니다. default 변수의 경우, default 변수는 정상0, default 발생 1의 값을 갖고 있습니다.\n",
        "\n",
        "주어진 데이터를 활용하여, creditScore에 대한 Regression을 적용해보세요.\n",
        "1.\t데이터 읽기\n",
        "2.\tMissing 확인 및 처리, @@@ 또는 qqq 등 이상한 값 제거\n",
        "3.\tTraining과 Testing으로 8:2로 파티셔닝 / Data Scaling은 필요 시 수행\n",
        "4.  default가 1인 값들만 남기기\n",
        "5.\t\"creditScore\"는 Y로,\"houseAge\",\"yearsEmploy\"를 X변수로 하는 regression을 수행, Testing 셋에 대한 rmse를 계산\n"
      ],
      "metadata": {
        "id": "DJhqVBZ1P9gg"
      }
    },
    {
      "cell_type": "code",
      "source": [],
      "metadata": {
        "id": "Akg9FECtvmTE"
      },
      "execution_count": null,
      "outputs": []
    },
    {
      "cell_type": "code",
      "source": [],
      "metadata": {
        "id": "Qrnwll6svmWF"
      },
      "execution_count": null,
      "outputs": []
    },
    {
      "cell_type": "markdown",
      "source": [
        "# 실습 3\n",
        "회사에서 새롭게 런칭한 디지털 콘텐츠 상품을 고객들을 대상으로 판매하는 방안을 데이터를 바탕으로 수립하고자 합니다.\n",
        "구체적으로는,\n",
        " - 1) 고객들의 온라인 리뷰 데이터를 바탕으로 적절한 고객群을 발견하여 고객들에 대한 이해를 하고,\n",
        " - 2) 고객들이 생성했던 제품 구매 Transaction자료를 바탕으로 판매 패턴을 발견합니다.\n",
        " - 3) 프로모션 후 생성된 텍스트 데이터를 바탕으로 제품 판매 활동에 대한 평가를 하고자 합니다.\n",
        "\n",
        "\n",
        "<대상 데이터>\n",
        " - 온라인 리뷰 데이터: data_1_2.csv\n",
        " - 제품 구매 이력 데이터: data_3.csv\n",
        " - 고객 피드백 데이터: data_5_2.csv\n"
      ],
      "metadata": {
        "id": "CZ_VL4wwP-QF"
      }
    },
    {
      "cell_type": "markdown",
      "source": [
        "온라인 리뷰 데이터의 1~5번 변수에 대하여, K-means 클러스터링을 통해 고객 군집을 발견하세요. 이때 데이터 크기를 최소-최대 정규화를 적용하여 클러스터링하세요. 반복문을 사용하시어, K가 2,4,6,8일때의 Between Sum of Squares(모형의 inertia)를 비교해보세요. 그리고 k=8에서의 각 군집의 특성을 파악해보세요"
      ],
      "metadata": {
        "id": "cJnuB73fRtga"
      }
    },
    {
      "cell_type": "code",
      "source": [],
      "metadata": {
        "id": "RGr41OeVvnVC"
      },
      "execution_count": null,
      "outputs": []
    },
    {
      "cell_type": "code",
      "source": [],
      "metadata": {
        "id": "4CWHiZQyvnX0"
      },
      "execution_count": null,
      "outputs": []
    },
    {
      "cell_type": "markdown",
      "source": [
        "#실습 4\n",
        "\n",
        "제품 구매이력 데이터로 부터, 기존 제품의 판매 패턴을 mlxtend 모듈을 사용해서 발견해보세요. 최소 지지도는 0.01이상이며, 그 외의 지표는 상황에 맞게 설정하세요\n",
        "\n",
        "- 1행 부터 20000행까지 사용해보세요\n",
        "- fpgrowth를 사용해보세요"
      ],
      "metadata": {
        "id": "bFk05Y1sP-dq"
      }
    },
    {
      "cell_type": "code",
      "source": [],
      "metadata": {
        "id": "tS1DHxkxvqlK"
      },
      "execution_count": null,
      "outputs": []
    },
    {
      "cell_type": "code",
      "source": [],
      "metadata": {
        "id": "zMa7s0Cwvqny"
      },
      "execution_count": null,
      "outputs": []
    },
    {
      "cell_type": "markdown",
      "source": [
        "# 실습5\n",
        "\n",
        "고객 피드백을 통해 판촉에 대한 긍부정에 대한 데이터가 텍스트로 기록되어 있습니다. 텍스트마이닝을 거쳐, 중빈도(10~30)에 해당하는 단어들로 구성된 DTM이 data_5_2.csv 로 제공됩니다. 해당 파일의 첫 컬럼은 고객의 피드백이 긍정(1)인지 부정(0)인지 기록되어 있습니다. 이 데이터에서 긍정인 경우에 대한 피드백 단어들의 클러스터링을, 부정인 피드백에 대한 피드백 단어들의 발생패턴을 수행해보세요.\n"
      ],
      "metadata": {
        "id": "bj6yyjUOP-qX"
      }
    },
    {
      "cell_type": "code",
      "source": [],
      "metadata": {
        "id": "aCiup858vsqg"
      },
      "execution_count": null,
      "outputs": []
    },
    {
      "cell_type": "code",
      "source": [],
      "metadata": {
        "id": "9sJk9HaIvst0"
      },
      "execution_count": null,
      "outputs": []
    },
    {
      "cell_type": "markdown",
      "source": [
        "# 실습 6\n",
        "\n",
        "- BX-Book-Ratings.csv는 user들이 책을 읽고 평가한 데이터입니다. csv이지만 구분자는 ;이며(sep=\";\", 파일크기가 크기 때문에 전체 데이터에 대해 1~25000행 선택하여서 아래 내용을 수행하세요.\n",
        "- rating이 6점 이상인 레코드에 대해 패턴을 발견\n",
        " - 패턴이 발견되지 않을 수 있음\n",
        "- 추천 알고리즘을 적용해보시고(예: SVD), 성능을 평가해보세요."
      ],
      "metadata": {
        "id": "Kl6w6zSnuAGG"
      }
    },
    {
      "cell_type": "code",
      "source": [],
      "metadata": {
        "id": "S1QYna-3vw0F"
      },
      "execution_count": null,
      "outputs": []
    },
    {
      "cell_type": "code",
      "source": [],
      "metadata": {
        "id": "mSOjENxjvw2_"
      },
      "execution_count": null,
      "outputs": []
    }
  ]
}